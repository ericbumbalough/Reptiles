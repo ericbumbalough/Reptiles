{
 "cells": [
  {
   "cell_type": "code",
   "execution_count": 7,
   "metadata": {
    "collapsed": false
   },
   "outputs": [
    {
     "name": "stderr",
     "output_type": "stream",
     "text": [
      "WARNING: Method definition mypush!(Any, "
     ]
    }
   ],
   "source": [
    "t0 = time()\n",
    "using NBInclude\n",
    "nbinclude(\"Reptile Tools V2.ipynb\")\n",
    "nbinclude(\"Recursive Reptiles V1.ipynb\")\n",
    "nbinclude(\"Expansion Reptile Generation V0.ipynb\");"
   ]
  },
  {
   "cell_type": "code",
   "execution_count": 8,
   "metadata": {
    "collapsed": false,
    "scrolled": false
   },
   "outputs": [
    {
     "name": "stderr",
     "output_type": "stream",
     "text": [
      "Any, Any, Any, Any, Any, Any, Any, "
     ]
    }
   ],
   "source": [
    "reptiles = initreptiles();"
   ]
  },
  {
   "cell_type": "code",
   "execution_count": 9,
   "metadata": {
    "collapsed": false,
    "scrolled": true
   },
   "outputs": [
    {
     "name": "stderr",
     "output_type": "stream",
     "text": [
      "Any, Any, Any, Any, Any, Any, Any, Any, Any, Any, Any) in module Main at C:\\Users\\Nun Maker\\Dropbox\\Jupyter\\Fractals\\Shape Fractals\\Reptile Tools V2.ipynb:In[120]:6"
     ]
    },
    {
     "ename": "LoadError",
     "evalue": "DimensionMismatch(\"arrays could not be broadcast to a common size\")",
     "output_type": "error",
     "traceback": [
      "DimensionMismatch(\"arrays could not be broadcast to a common size\")",
      "",
      " in _bcs1(::Base.OneTo{Int64}, ::Base.OneTo{Int64}) at .\\broadcast.jl:47",
      " in _bcs at .\\broadcast.jl:40 [inlined]",
      " in broadcast_shape at .\\broadcast.jl:34 [inlined] (repeats 2 times)",
      " in broadcast_shape at .\\broadcast.jl:31 [inlined]",
      " in broadcast_t at .\\broadcast.jl:228 [inlined]",
      " in broadcast at .\\broadcast.jl:230 [inlined]",
      " in .+(::Array{Float64,2}, ::Array{Float64,1}) at .\\broadcast.jl:304",
      " in findtiles(::Array{Float64,2}, ::Array{Float64,1}, ::Array{Bool,1}, ::Array{Float64,2}) at C:\\Users\\Nun Maker\\Dropbox\\Jupyter\\Fractals\\Shape Fractals\\Reptile Tools V2.ipynb:In[388]:18",
      " in savereptile(::DataFrames.DataFrame, ::Int64, ::Int64, ::Tuple{Int64,Int64,Int64}, ::Array{Float64,1}, ::Array{Float64,1}, ::Array{Float64,2}, ::Array{Float64,1}, ::Array{Bool,1}, ::Array{Float64,2}, ::Array{String,1}, ::DataArrays.NAtype, ::Array{Bool,1}, ::Array{Array{AbstractString,1},1}, ::Array{Array{Tuple{Int64,Int64,Int64},1},1}, ::String, ::String, ::Bool) at C:\\Users\\Nun Maker\\Dropbox\\Jupyter\\Fractals\\Shape Fractals\\Reptile Tools V2.ipynb:In[385]:12"
     ]
    },
    {
     "name": "stderr",
     "output_type": "stream",
     "text": [
      " overwritten at C:\\Users\\Nun Maker\\Dropbox\\Jupyter\\Fractals\\Shape Fractals\\Reptile Tools V2.ipynb:In[120]:6"
     ]
    }
   ],
   "source": [
    "n=3\n",
    "m=2\n",
    "sides = [1.0; 1.0; sqrt(2)]\n",
    "angles = [pi/2; pi/4; pi/4]\n",
    "points = [0.0 0.0; 1.0 0.0; 1.0 1.0]\n",
    "rotate = [3*pi/4, 5*pi/4]\n",
    "reflect = [false, false]\n",
    "translate = [1.0 0.0; 1.0 1.0]\n",
    "#tiles = zeros(n+1,2,m)\n",
    "#tiles[:,:,1] = [0.0 0.0; 0.5 0.5; 1.0 0.0; 0.0 0.0]\n",
    "#tiles[:,:,2] = [0.5 0.5; 1.0 1.0; 1.0 0.0; 0.5 0.5]\n",
    "\n",
    "savereptile(reptiles, n, m, (3,2,1), sides, angles, points, rotate, reflect,\n",
    "    translate, [\"Foundation\"], NA, fill(false, 6), Array{AbstractString,1}[], \n",
    "    Array{Tuple{Int64,Int64,Int64},1}[], \"\", \"\", false)\n",
    "\n",
    "recurloop(reptiles, reptiles[end, :], 100) #recursive for m <= 100"
   ]
  },
  {
   "cell_type": "code",
   "execution_count": 10,
   "metadata": {
    "collapsed": false
   },
   "outputs": [
    {
     "name": "stderr",
     "output_type": "stream",
     "text": [
      ".\n",
      "WARNING: Method definition findtiles(Any, Any, Any, Any) in module Main at C:\\Users\\Nun Maker\\Dropbox\\Jupyter\\Fractals\\Shape Fractals\\Reptile Tools V2.ipynb:In[388]:5 overwritten at C:\\Users\\Nun Maker\\Dropbox\\Jupyter\\Fractals\\Shape Fractals\\Reptile Tools V2.ipynb:In[388]:5.\n",
      "WARNING: Method definition plotreptile(Any, Any) in module Main at C:\\Users\\Nun Maker\\Dropbox\\Jupyter\\Fractals\\Shape Fractals\\Reptile Tools V2.ipynb:In[384]:4 overwritten at C:\\Users\\Nun Maker\\Dropbox\\Jupyter\\Fractals\\Shape Fractals\\Reptile Tools V2.ipynb:In[384]:4.\n",
      "WARNING: Method definition "
     ]
    },
    {
     "ename": "LoadError",
     "evalue": "DimensionMismatch(\"arrays could not be broadcast to a common size\")",
     "output_type": "error",
     "traceback": [
      "DimensionMismatch(\"arrays could not be broadcast to a common size\")",
      "",
      " in _bcs1(::Base.OneTo{Int64}, ::Base.OneTo{Int64}) at .\\broadcast.jl:47",
      " in _bcs at .\\broadcast.jl:40 [inlined]",
      " in broadcast_shape at .\\broadcast.jl:34 [inlined] (repeats 2 times)",
      " in broadcast_shape at .\\broadcast.jl:31 [inlined]",
      " in broadcast_t at .\\broadcast.jl:228 [inlined]",
      " in broadcast at .\\broadcast.jl:230 [inlined]",
      " in .+(::Array{Float64,2}, ::Array{Float64,1}) at .\\broadcast.jl:304",
      " in findtiles(::Array{Float64,2}, ::Array{Float64,2}, ::Array{Bool,2}, ::Array{Float64,2}) at C:\\Users\\Nun Maker\\Dropbox\\Jupyter\\Fractals\\Shape Fractals\\Reptile Tools V2.ipynb:In[388]:18",
      " in savereptile(::DataFrames.DataFrame, ::Int64, ::Int64, ::Tuple{Int64,Int64,Int64}, ::Array{Float64,1}, ::Array{Float64,2}, ::Array{Float64,2}, ::Array{Float64,2}, ::Array{Bool,2}, ::Array{Float64,2}, ::Array{String,1}, ::DataArrays.NAtype, ::Array{Bool,1}, ::Array{Array{AbstractString,1},1}, ::Array{Array{Tuple{Int64,Int64,Int64},1},1}, ::String, ::String, ::Bool) at C:\\Users\\Nun Maker\\Dropbox\\Jupyter\\Fractals\\Shape Fractals\\Reptile Tools V2.ipynb:In[385]:12"
     ]
    }
   ],
   "source": [
    "n=3\n",
    "m=3\n",
    "sides = [1.0, sqrt(3), 2.0]\n",
    "angles = [pi/2 pi/6 pi/3]\n",
    "points = [0.0 0.0; 1.0 0.0; 1.0 sqrt(3)]\n",
    "rotate = [3*pi/2 pi/6 5*pi/6]\n",
    "reflect = [true true false]\n",
    "translate = [1.0 sqrt(3)/3; 1.0 sqrt(3)/3; 1.0 sqrt(3)/3]\n",
    "#tiles = zeros(n+1,2,m)\n",
    "#tiles[:,:,1] = [1.0 sqrt(3)/3; 0.0 0.0; 1.0 0.0; 1.0 sqrt(3)/3]\n",
    "#tiles[:,:,2] = [1.0 sqrt(3)/3; 1.0 sqrt(3); 0.5 sqrt(3)/2; 1.0 sqrt(3)/3]\n",
    "#tiles[:,:,3] = [0 0; 1 sqrt(3)/3; 0.5 sqrt(3)/2; 0 0]\n",
    "\n",
    "savereptile(reptiles, n, m, (3,3,1), sides, angles, points, rotate, reflect,\n",
    "    translate, [\"Foundation\"], NA, fill(false, 6), Array{AbstractString,1}[],\n",
    "    Array{Tuple{Int64,Int64,Int64},1}[], \"\", \"\", false)\n",
    "\n",
    "recurloop(reptiles, reptiles[end, :], 100) #recursive for m <= 100"
   ]
  },
  {
   "cell_type": "code",
   "execution_count": 11,
   "metadata": {
    "collapsed": false
   },
   "outputs": [
    {
     "name": "stderr",
     "output_type": "stream",
     "text": [
      "savereptile(Any, Any, Any, Any, Any, Any, Any, Any, Any, Any, Any, Any, Any"
     ]
    },
    {
     "ename": "LoadError",
     "evalue": "InexactError()",
     "output_type": "error",
     "traceback": [
      "InexactError()",
      "",
      " in copy!(::Base.LinearFast, ::Array{Int64,1}, ::Base.LinearFast, ::Array{Float64,1}) at .\\abstractarray.jl:559",
      " in trirepgen(::Int64) at C:\\Users\\Nun Maker\\Dropbox\\Jupyter\\Fractals\\Shape Fractals\\Expansion Reptile Generation V0.ipynb:In[34]:28",
      " in macro expansion; at .\\In[11]:4 [inlined]",
      " in anonymous at .\\<missing>:?"
     ]
    },
    {
     "name": "stderr",
     "output_type": "stream",
     "text": [
      ", Any, Any"
     ]
    }
   ],
   "source": [
    "#right triangle expansion\n",
    "n=3\n",
    "for i = 2:floor(Int,sqrt(100))\n",
    "    savereptile(reptiles, n, i^2, (3,i^2,1),trirepgen(i)..., [\"Expansion\"], NA,\n",
    "    fill(false, 6), Array{AbstractString,1}[],\n",
    "    Array{Tuple{Int64,Int64,Int64},1}[], \"\", \"\", false)\n",
    "end"
   ]
  },
  {
   "cell_type": "code",
   "execution_count": 12,
   "metadata": {
    "collapsed": false
   },
   "outputs": [
    {
     "name": "stderr",
     "output_type": "stream",
     "text": [
      ", Any, Any, Any) in module Main at C:\\Users\\Nun Maker\\Dropbox\\Jupyter\\Fractals\\Shape Fractals\\Reptile Tools V2.ipynb:In[385]:6 overwritten at C:\\Users\\Nun Maker\\Dropbox\\Jupyter\\Fractals\\Shape Fractals\\Reptile Tools V2.ipynb:In[385]:6.\n",
      "WARNING: Method definition getrep(Any, Any) in module Main at C:\\Users\\Nun Maker\\Dropbox\\Jupyter\\Fractals\\Shape Fractals\\Reptile Tools V2.ipynb:In[386]:4 overwritten at C:\\Users\\Nun Maker\\Dropbox\\Jupyter\\Fractals\\Shape Fractals\\Reptile Tools V2.ipynb:In[386]:4.\n"
     ]
    },
    {
     "ename": "LoadError",
     "evalue": "DimensionMismatch(\"arrays could not be broadcast to a common size\")",
     "output_type": "error",
     "traceback": [
      "DimensionMismatch(\"arrays could not be broadcast to a common size\")",
      "",
      " in _bcs1(::Base.OneTo{Int64}, ::Base.OneTo{Int64}) at .\\broadcast.jl:47",
      " in _bcs at .\\broadcast.jl:40 [inlined]",
      " in broadcast_shape at .\\broadcast.jl:34 [inlined] (repeats 2 times)",
      " in broadcast_shape at .\\broadcast.jl:31 [inlined]",
      " in broadcast_t at .\\broadcast.jl:228 [inlined]",
      " in broadcast at .\\broadcast.jl:230 [inlined]",
      " in .+(::Array{Float64,2}, ::Array{Float64,1}) at .\\broadcast.jl:304",
      " in findtiles(::Array{Float64,2}, ::Array{Float64,1}, ::BitArray{1}, ::Array{Float64,2}) at C:\\Users\\Nun Maker\\Dropbox\\Jupyter\\Fractals\\Shape Fractals\\Reptile Tools V2.ipynb:In[388]:18",
      " in savereptile(::DataFrames.DataFrame, ::Int64, ::Int64, ::Tuple{Int64,Int64,Int64}, ::Array{Float64,1}, ::Array{Float64,1}, ::Array{Float64,2}, ::Array{Float64,1}, ::BitArray{1}, ::Array{Float64,2}, ::Array{String,1}, ::DataArrays.NAtype, ::Array{Bool,1}, ::Array{Array{AbstractString,1},1}, ::Array{Array{Tuple{Int64,Int64,Int64},1},1}, ::String, ::String, ::Bool) at C:\\Users\\Nun Maker\\Dropbox\\Jupyter\\Fractals\\Shape Fractals\\Reptile Tools V2.ipynb:In[385]:12",
      " in macro expansion; at .\\In[12]:7 [inlined]",
      " in anonymous at .\\<missing>:?"
     ]
    }
   ],
   "source": [
    "#rectangles\n",
    "n = 4\n",
    "for i = 1:100\n",
    "    for j = i:100\n",
    "        if i*j < 100 && i*j >1\n",
    "        \n",
    "savereptile(reptiles, n, i*j, (4,i*j,1),recrepgen(i, j)..., [\"Expansion\"], NA,\n",
    "    fill(false, 6), Array{AbstractString,1}[],\n",
    "    Array{Tuple{Int64,Int64,Int64},1}[], \"\", \"\", false)\n",
    "         \n",
    "            \n",
    "        end\n",
    "    end\n",
    "end"
   ]
  },
  {
   "cell_type": "code",
   "execution_count": 13,
   "metadata": {
    "collapsed": false
   },
   "outputs": [
    {
     "name": "stderr",
     "output_type": "stream",
     "text": [
      "WARNING: Method definition initreptiles("
     ]
    },
    {
     "ename": "LoadError",
     "evalue": "DimensionMismatch(\"arrays could not be broadcast to a common size\")",
     "output_type": "error",
     "traceback": [
      "DimensionMismatch(\"arrays could not be broadcast to a common size\")",
      "",
      " in _bcs1(::Base.OneTo{Int64}, ::Base.OneTo{Int64}) at .\\broadcast.jl:47",
      " in _bcs at .\\broadcast.jl:40 [inlined]",
      " in broadcast_shape at .\\broadcast.jl:34 [inlined] (repeats 2 times)",
      " in broadcast_shape at .\\broadcast.jl:31 [inlined]",
      " in broadcast_t at .\\broadcast.jl:228 [inlined]",
      " in broadcast at .\\broadcast.jl:230 [inlined]",
      " in .+(::Array{Float64,2}, ::Array{Float64,1}) at .\\broadcast.jl:304",
      " in findtiles(::Array{Float64,2}, ::Array{Float64,2}, ::Array{Bool,2}, ::Array{Float64,2}) at C:\\Users\\Nun Maker\\Dropbox\\Jupyter\\Fractals\\Shape Fractals\\Reptile Tools V2.ipynb:In[388]:18",
      " in savereptile(::DataFrames.DataFrame, ::Int64, ::Int64, ::Tuple{Int64,Int64,Int64}, ::Array{Float64,1}, ::Array{Float64,1}, ::Array{Float64,2}, ::Array{Float64,2}, ::Array{Bool,2}, ::Array{Float64,2}, ::Array{String,1}, ::DataArrays.NAtype, ::Array{Bool,1}, ::Array{Array{AbstractString,1},1}, ::Array{Array{Tuple{Int64,Int64,Int64},1},1}, ::String, ::String, ::Bool) at C:\\Users\\Nun Maker\\Dropbox\\Jupyter\\Fractals\\Shape Fractals\\Reptile Tools V2.ipynb:In[385]:12"
     ]
    }
   ],
   "source": [
    "n=4\n",
    "m=4\n",
    "sides = [1.0, 1.0, sqrt(2), 2.0]\n",
    "angles = [pi/2, 3*pi/4, pi/4, pi/2]\n",
    "points = [0.0 0.0; 1.0 0.0; 1.0 1.0; 0.0 2.0]\n",
    "rotate = [pi/2 0.0 0.0 pi]\n",
    "reflect = [false false false true]\n",
    "translate = [1.0 0.0; 0.5 0.5; 0.0 1.0; 0.0 1]\n",
    "\n",
    "savereptile(reptiles, n, m, (4,4,1), sides, angles, points, rotate, reflect,\n",
    "    translate, [\"Foundation\"], NA, fill(false, 6), Array{AbstractString,1}[],\n",
    "    Array{Tuple{Int64,Int64,Int64},1}[], \"\", \"\", false)\n",
    "\n",
    "recurloop(reptiles, reptiles[end, :], 100) #recursive for m <= 100"
   ]
  },
  {
   "cell_type": "code",
   "execution_count": 14,
   "metadata": {
    "collapsed": false
   },
   "outputs": [
    {
     "name": "stderr",
     "output_type": "stream",
     "text": [
      ") in module Main at C:\\Users\\Nun Maker\\Dropbox\\Jupyter\\Fractals\\Shape Fractals\\Reptile Tools V2.ipynb:In[4]:3 overwritten at C:\\Users\\Nun Maker\\Dropbox\\Jupyter\\Fractals\\Shape Fractals\\Reptile Tools V2.ipynb:In[4]:3.\n",
      "WARNING: Method definition ordertiles("
     ]
    },
    {
     "data": {
      "text/plain": [
       "35.91499996185303"
      ]
     },
     "execution_count": 14,
     "metadata": {},
     "output_type": "execute_result"
    },
    {
     "name": "stderr",
     "output_type": "stream",
     "text": [
      "Any) in module Main at C:\\Users\\Nun Maker\\Dropbox\\Jupyter\\Fractals\\Shape Fractals\\Reptile Tools V2.ipynb:In[90]:6 overwritten at C:\\Users\\Nun Maker\\Dropbox\\Jupyter\\Fractals\\Shape Fractals\\Reptile Tools V2.ipynb:In[90]:6.\n",
      "WARNING: Method definition ordertiles(Any, Any) in module Main at C:\\Users\\Nun Maker\\Dropbox\\Jupyter\\Fractals\\Shape Fractals\\Reptile Tools V2.ipynb:In[90]:6 overwritten at C:\\Users\\Nun Maker\\Dropbox\\Jupyter\\Fractals\\Shape Fractals\\Reptile Tools V2.ipynb:In[90]:6.\n",
      "WARNING: Method definition sorttiles(Any, Any) in module Main at C:\\Users\\Nun Maker\\Dropbox\\Jupyter\\Fractals\\Shape Fractals\\Reptile Tools V2.ipynb:In[91]:6 overwritten at C:\\Users\\Nun Maker\\Dropbox\\Jupyter\\Fractals\\Shape Fractals\\Reptile Tools V2.ipynb:In[91]:6.\n",
      "WARNING: Method definition sorttiles(Any, Any, Any) in module Main at C:\\Users\\Nun Maker\\Dropbox\\Jupyter\\Fractals\\Shape Fractals\\Reptile Tools V2.ipynb:In[91]:6 overwritten at C:\\Users\\Nun Maker\\Dropbox\\Jupyter\\Fractals\\Shape Fractals\\Reptile Tools V2.ipynb:In[91]:6.\n",
      "WARNING: Method definition pianglecheck(Any) in module Main at C:\\Users\\Nun Maker\\Dropbox\\Jupyter\\Fractals\\Shape Fractals\\Reptile Tools V2.ipynb:In[11]:4 overwritten at C:\\Users\\Nun Maker\\Dropbox\\Jupyter\\Fractals\\Shape Fractals\\Reptile Tools V2.ipynb:In[11]:4.\n",
      "WARNING: Method definition pianglecheck(Any, Any) in module Main at C:\\Users\\Nun Maker\\Dropbox\\Jupyter\\Fractals\\Shape Fractals\\Reptile Tools V2.ipynb:In[11]:4 overwritten at C:\\Users\\Nun Maker\\Dropbox\\Jupyter\\Fractals\\Shape Fractals\\Reptile Tools V2.ipynb:In[11]:4.\n",
      "WARNING: Method definition find_recur_parent(Any, Any) in module Main at C:\\Users\\Nun Maker\\Dropbox\\Jupyter\\Fractals\\Shape Fractals\\Recursive Reptiles V1.ipynb:In[239]:5 overwritten at C:\\Users\\Nun Maker\\Dropbox\\Jupyter\\Fractals\\Shape Fractals\\Recursive Reptiles V1.ipynb:In[239]:5.\n",
      "WARNING: Method definition recurcheck(Any, Any) in module Main at C:\\Users\\Nun Maker\\Dropbox\\Jupyter\\Fractals\\Shape Fractals\\Recursive Reptiles V1.ipynb:In[10]:5 overwritten at C:\\Users\\Nun Maker\\Dropbox\\Jupyter\\Fractals\\Shape Fractals\\Recursive Reptiles V1.ipynb:In[10]:5.\n",
      "WARNING: Method definition recurreptile(Any, Any) in module Main at C:\\Users\\Nun Maker\\Dropbox\\Jupyter\\Fractals\\Shape Fractals\\Recursive Reptiles V1.ipynb:In[241]:5 overwritten at C:\\Users\\Nun Maker\\Dropbox\\Jupyter\\Fractals\\Shape Fractals\\Recursive Reptiles V1.ipynb:In[241]:5.\n",
      "WARNING: Method definition recurloop(Any, Any, Any) in module Main at C:\\Users\\Nun Maker\\Dropbox\\Jupyter\\Fractals\\Shape Fractals\\Recursive Reptiles V1.ipynb:In[11]:4 overwritten at C:\\Users\\Nun Maker\\Dropbox\\Jupyter\\Fractals\\Shape Fractals\\Recursive Reptiles V1.ipynb:In[11]:4.\n",
      "WARNING: Method definition recrepgen(Any, Any) in module Main at C:\\Users\\Nun Maker\\Dropbox\\Jupyter\\Fractals\\Shape Fractals\\Expansion Reptile Generation V0.ipynb:In[1]:4 overwritten at C:\\Users\\Nun Maker\\Dropbox\\Jupyter\\Fractals\\Shape Fractals\\Expansion Reptile Generation V0.ipynb:In[1]:4.\n",
      "WARNING: Method definition trirepgen(Any) in module Main at C:\\Users\\Nun Maker\\Dropbox\\Jupyter\\Fractals\\Shape Fractals\\Expansion Reptile Generation V0.ipynb:In[34]:4 overwritten at C:\\Users\\Nun Maker\\Dropbox\\Jupyter\\Fractals\\Shape Fractals\\Expansion Reptile Generation V0.ipynb:In[34]:4.\n",
      "WARNING: Base.FS is deprecated, use Base.Filesystem instead.\n",
      "  likely near In[9]:13\n",
      "WARNING: Base.FS is deprecated, use Base.Filesystem instead.\n",
      "  likely near In[9]:13\n",
      "WARNING: Base.FS is deprecated, use Base.Filesystem instead.\n",
      "  likely near In[9]:13\n",
      "WARNING: Base.FS is deprecated, use Base.Filesystem instead.\n",
      "  likely near In[9]:13\n",
      "WARNING: Base.FS is deprecated, use Base.Filesystem instead.\n",
      "  likely near In[11]:3\n",
      "WARNING: Base.FS is deprecated, use Base.Filesystem instead.\n",
      "  likely near In[11]:3\n",
      "WARNING: Base.FS is deprecated, use Base.Filesystem instead.\n",
      "  likely near In[11]:3\n",
      "WARNING: Base.FS is deprecated, use Base.Filesystem instead.\n",
      "  likely near In[11]:3\n"
     ]
    }
   ],
   "source": [
    "t1 = time()\n",
    "elapsed = t1 - t0"
   ]
  },
  {
   "cell_type": "code",
   "execution_count": null,
   "metadata": {
    "collapsed": true
   },
   "outputs": [],
   "source": []
  }
 ],
 "metadata": {
  "kernelspec": {
   "display_name": "Julia 0.5.0",
   "language": "julia",
   "name": "julia-0.5"
  },
  "language_info": {
   "file_extension": ".jl",
   "mimetype": "application/julia",
   "name": "julia",
   "version": "0.5.0"
  }
 },
 "nbformat": 4,
 "nbformat_minor": 0
}
