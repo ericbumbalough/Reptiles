{
 "cells": [
  {
   "cell_type": "code",
   "execution_count": 1,
   "metadata": {
    "collapsed": false
   },
   "outputs": [
    {
     "data": {
      "text/plain": [
       "recrepgen (generic function with 1 method)"
      ]
     },
     "execution_count": 1,
     "metadata": {},
     "output_type": "execute_result"
    }
   ],
   "source": [
    "function recrepgen(i, j)\n",
    "    #generates the rectangular replite that is `i` tiles by `j` tiles\n",
    "\n",
    "    if j < i\n",
    "        error(\"j must be greater than or equal to i\")\n",
    "    end\n",
    "\n",
    "    sides = [1.0; sqrt(j/i); 1.0; sqrt(j/i)]\n",
    "    angles = [pi/2; pi/2; pi/2; pi/2]\n",
    "    points = [0.0 0.0; 1.0 0.0; 1.0 sqrt(j/i); 0.0 sqrt(j/i)]\n",
    "    rotate = fill(pi/2, i * j)\n",
    "    reflect = falses(i * j)\n",
    "\n",
    "    #loop to generate tranlation point\n",
    "    translate = zeros(i, j, 2) #will resize aftera loop\n",
    "    for n = 1:i\n",
    "        for m = 1:j\n",
    "            translate[n, m, :] = [(n)/i (m-1)/j*sqrt(j/i)]\n",
    "        end\n",
    "    end\n",
    "\n",
    "    translate = reshape(translate, i * j, 2) #reshape\n",
    "\n",
    "    return sides, angles, points, rotate, reflect, translate\n",
    "    \n",
    "end"
   ]
  },
  {
   "cell_type": "code",
   "execution_count": 34,
   "metadata": {
    "collapsed": false
   },
   "outputs": [
    {
     "data": {
      "text/plain": [
       "trirepgen (generic function with 1 method)"
      ]
     },
     "execution_count": 34,
     "metadata": {},
     "output_type": "execute_result"
    }
   ],
   "source": [
    "function trirepgen(i)\n",
    "    #generates a right triangular reptile that is 'i' rows tall\n",
    "    \n",
    "    if i < 2\n",
    "        error(\"must be at least two rows\")\n",
    "    end\n",
    "    \n",
    "    sides = [1.0; 1.0; sqrt(2)]\n",
    "    angles = [pi/2; pi/4; pi/4]\n",
    "    points = [0.0 0.0; 1.0 0.0; 1.0 1.0]\n",
    "    reflect = falses(i^2)\n",
    "    \n",
    "    #rotate and translate\n",
    "    rotate = vec(repmat([0 1], 1, round(Int, (i^2 - i)/2))) #[0 1 0 1 0 1 0 1 0...]\n",
    "    translate = zeros(i^2, 2) #initialize\n",
    "    translate[1,:] = [(i-1)/i (i-1)/i] #top triangle\n",
    "    for n = 2:i #rows from top\n",
    "        insert!(rotate, n^2 - 1, 0) #insert extra zeros where appropriate\n",
    "        for m = 1:2n-1\n",
    "            if m & 1 == 1 #odd (the upright trianges)\n",
    "                translate[(n-1)^2+m, :] = [(i-1-floor(m/2))/i (i-n)/i]\n",
    "            else #even (flipped trianges)\n",
    "                translate[(n-1)^2+m, :] = [(i-m/2+1)/i (i-n+1)/i]\n",
    "            end\n",
    "        end\n",
    "    end\n",
    "    insert!(rotate, 1, 0) #insert zero for first row\n",
    "    rotate .*= pi\n",
    "    \n",
    "    return sides, angles, points, rotate, reflect, translate\n",
    "    \n",
    "end"
   ]
  },
  {
   "cell_type": "code",
   "execution_count": null,
   "metadata": {
    "collapsed": true
   },
   "outputs": [],
   "source": []
  }
 ],
 "metadata": {
  "kernelspec": {
   "display_name": "Julia 0.4.6",
   "language": "julia",
   "name": "julia-0.4"
  },
  "language_info": {
   "file_extension": ".jl",
   "mimetype": "application/julia",
   "name": "julia",
   "version": "0.4.6"
  }
 },
 "nbformat": 4,
 "nbformat_minor": 0
}
