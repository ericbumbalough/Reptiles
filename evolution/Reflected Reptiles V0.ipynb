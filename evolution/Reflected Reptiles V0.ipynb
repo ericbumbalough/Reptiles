{
 "cells": [
  {
   "cell_type": "markdown",
   "metadata": {},
   "source": [
    "Could save some time by not computing reflection of mirror points since they don't move."
   ]
  },
  {
   "cell_type": "code",
   "execution_count": 2,
   "metadata": {
    "collapsed": false
   },
   "outputs": [
    {
     "data": {
      "text/plain": [
       "pianglecheck (generic function with 2 methods)"
      ]
     },
     "execution_count": 2,
     "metadata": {},
     "output_type": "execute_result"
    }
   ],
   "source": [
    "using NBInclude, Winston\n",
    "nbinclude(\"Reptile Tools V2.ipynb\")"
   ]
  },
  {
   "cell_type": "code",
   "execution_count": 2,
   "metadata": {
    "collapsed": false
   },
   "outputs": [
    {
     "data": {
      "text/plain": [
       "reflect (generic function with 1 method)"
      ]
     },
     "execution_count": 2,
     "metadata": {},
     "output_type": "execute_result"
    }
   ],
   "source": [
    "function reflect(mirror, point)\n",
    "    #reflects `point` over `mirror`. 'point` = [x1 y1; x2 y2; ...]. `mirror` = [x1 y1; x2 y2].\n",
    "    \n",
    "    if mirror[2,1] - mirror[1,1] != 0 #slope exists\n",
    "        slope = (mirror[2,2] - mirror[1,2])/(mirror[2,1] - mirror[1,1]) #mirror's slope\n",
    "        x = (slope^2*mirror[1,1]+(point[:,2].-mirror[1,2])*slope+point[:,1])/(slope^2+1) #intersection of mirror and line through point\n",
    "        x = 2 * x - point[:,1] #reflected x-coordinate\n",
    "        if slope != 0 #not horizontal\n",
    "            y = -1/slope*(x - point[:,1])+point[:,2]\n",
    "        else #slope horizontal\n",
    "            y = -point[:,2] .+ 2 * mirror[1,2]\n",
    "        end\n",
    "    else #infinite slope\n",
    "        x = -point[:,1] .+ 2 * mirror[1,1]\n",
    "        y = point[:,2]\n",
    "    end\n",
    "    \n",
    "    return [x y]\n",
    "end"
   ]
  },
  {
   "cell_type": "code",
   "execution_count": 3,
   "metadata": {
    "collapsed": false
   },
   "outputs": [
    {
     "data": {
      "text/plain": [
       "reflecttile (generic function with 1 method)"
      ]
     },
     "execution_count": 3,
     "metadata": {},
     "output_type": "execute_result"
    }
   ],
   "source": [
    "function reflecttile(tile, side::Int)\n",
    "    #reflects `tile` over the side given by `side'. 'tile' = [x1 y1; x2 y2; ...]\n",
    "    #returns new tile in proper order with reflected side (and verticies on a side) deleted\n",
    "    \n",
    "    #reflect\n",
    "    if side < size(tile)[1] #not last side\n",
    "        mirror = tile[side:side+1,:]\n",
    "    elseif side == size(tile)[1] #last side\n",
    "        mirror = [tile[end,:]; tile[1,:]]      \n",
    "    else #error\n",
    "        error(\"side exceeds the number of tile sides\")\n",
    "    end\n",
    "    \n",
    "    newtile = reflect(mirror, tile) #combination of original and new, reflected points\n",
    "    \n",
    "    #combine original and reflection\n",
    "    if side < size(tile)[1] #not last side\n",
    "        newtile = [tile[1:side,:]; flipdim(newtile[side+2:end,:],1); \n",
    "                flipdim(newtile[1:side-1,:],1); tile[side+1:end,:]]\n",
    "    else\n",
    "        newtile = [tile[1:side,:]; flipdim(newtile[2:side-1,:],1)]\n",
    "    end\n",
    "    \n",
    "    #check for points lieing on a side (i.e. 180 degree angles)\n",
    "    newtile = pianglecheck(newtile)\n",
    "    \n",
    "    newtile = reshape(ordertiles(reshape(newtile,(size(newtile)[1],2,1))), (size(newtile)[1],2)) #ordertiles expect a 3d matrix\n",
    "    \n",
    "    return newtile\n",
    "end\n",
    "        "
   ]
  },
  {
   "cell_type": "code",
   "execution_count": 51,
   "metadata": {
    "collapsed": false
   },
   "outputs": [
    {
     "data": {
      "text/plain": [
       "reflectcheck (generic function with 2 methods)"
      ]
     },
     "execution_count": 51,
     "metadata": {},
     "output_type": "execute_result"
    }
   ],
   "source": [
    "function reflectcheck(db, reptile, digits = 9)\n",
    "    #attempts to create a reflective child of `reptile` and saves it in `db`\n",
    "    \n",
    "    \n",
    "    ###########start over##########\n",
    "    #need to work with pairs of verticies (edges) forward and reverse\n",
    "    \n",
    "    for i = 1:reptile[1,:n]#loop through each side\n",
    "        \n",
    "        verticies = round(reptile[1, :tiles][:,:,i], digits) #all of the ith verticies\n",
    "        edges = [verticies circshift(verticies, -1)] #each row is an edge [x1 y1 x2 y2]\n",
    "        \n",
    "        #check if \n",
    "        \n",
    "        #check if mirrored tile edges align\n",
    "        for j = 1:reptile[1, :m] #loop through each tile\n",
    "            \n",
    "            #forward direction\n",
    "            temp = edges[j,:] .== [edges[1:j-1,:]; edges[j+1:end,:]] #points that match x1, y1, x2, y2\n",
    "            matchededges = temp[:,1] & temp[:,2] & temp[:,3] & temp[:,4] #matching edges\n",
    "        end\n",
    "    end\n",
    "    \n",
    "\n",
    "    \n",
    "    \n",
    "    \n",
    "    \n",
    "    \n",
    "    for i = 1:reptile[1,:n]#loop through each side\n",
    "        \n",
    "        verticies = round(reptile[1, :tile][:,:,i], digits) #all of the ith verticies\n",
    "        \n",
    "        for j = 1:reptile[1, :m] #loop through each tile\n",
    "            \n",
    "            \n",
    "            \n",
    "            #check if mirrored tile edges align\n",
    "            temp = verticies[j,:] .== [vertices[1:j-1,:]; verticies[j+1:end,:]]\n",
    "            matchedverticies = temp[:,1] & temp[:,2] #points that match x and y\n",
    "            vals, lens = rle(matchedverticies) #run values and lengths\n",
    "            if max(lens) > 2 \n",
    "            \n",
    "            #check if mirrored tile edge is on mirrored original edge\n",
    "            original = reptile[1, :points] #original's verticies\n",
    "            originalslope = 1\n",
    "            end\n",
    "        end\n",
    "    end\n",
    "   \n",
    "end"
   ]
  },
  {
   "cell_type": "code",
   "execution_count": 52,
   "metadata": {
    "collapsed": false,
    "scrolled": true
   },
   "outputs": [
    {
     "data": {
      "text/plain": [
       "4x4 Array{Float64,2}:\n",
       " 0.0  0.0  0.0  1.0\n",
       " 0.0  1.0  0.5  1.0\n",
       " 0.5  1.0  0.5  0.5\n",
       " 0.5  0.5  0.0  0.0"
      ]
     },
     "execution_count": 52,
     "metadata": {},
     "output_type": "execute_result"
    }
   ],
   "source": [
    "reflectcheck(reptiles, getrep(reptiles, (4,4,1)))"
   ]
  },
  {
   "cell_type": "code",
   "execution_count": 47,
   "metadata": {
    "collapsed": false
   },
   "outputs": [
    {
     "name": "stdout",
     "output_type": "stream",
     "text": [
      "search: findtiles\n",
      "\n"
     ]
    },
    {
     "data": {
      "text/latex": [
       "No documentation found.\n",
       "\\texttt{findtiles} is a generic \\texttt{Function}.\n",
       "\\begin{verbatim}\n",
       "# 1 method for generic function \"findtiles\":\n",
       "findtiles(points, rotate, reflect, translate) at C:\\Users\\Nun Maker\\Dropbox\\Jupyter\\Fractals\\Shape Fractals\\Reptile Tools V2.ipynb:In[388]:5\n",
       "\\end{verbatim}\n"
      ],
      "text/markdown": [
       "No documentation found.\n",
       "\n",
       "`findtiles` is a generic `Function`.\n",
       "\n",
       "```julia\n",
       "# 1 method for generic function \"findtiles\":\n",
       "findtiles(points, rotate, reflect, translate) at C:\\Users\\Nun Maker\\Dropbox\\Jupyter\\Fractals\\Shape Fractals\\Reptile Tools V2.ipynb:In[388]:5\n",
       "```\n"
      ],
      "text/plain": [
       "No documentation found.\n",
       "\n",
       "`findtiles` is a generic `Function`.\n",
       "\n",
       "```julia\n",
       "# 1 method for generic function \"findtiles\":\n",
       "findtiles(points, rotate, reflect, translate) at C:\\Users\\Nun Maker\\Dropbox\\Jupyter\\Fractals\\Shape Fractals\\Reptile Tools V2.ipynb:In[388]:5\n",
       "```\n"
      ]
     },
     "execution_count": 47,
     "metadata": {},
     "output_type": "execute_result"
    }
   ],
   "source": [
    "?findtiles"
   ]
  },
  {
   "cell_type": "code",
   "execution_count": 34,
   "metadata": {
    "collapsed": false
   },
   "outputs": [
    {
     "data": {
      "text/plain": [
       "5x2 Array{Int64,2}:\n",
       "  1  3\n",
       "  2  3\n",
       "  2  4\n",
       " 32  5\n",
       " 35  6"
      ]
     },
     "execution_count": 34,
     "metadata": {},
     "output_type": "execute_result"
    }
   ],
   "source": [
    "sort([1 3; 35 3; 32 4;2 5; 2 6],1)"
   ]
  },
  {
   "cell_type": "code",
   "execution_count": 15,
   "metadata": {
    "collapsed": false
   },
   "outputs": [
    {
     "data": {
      "text/plain": [
       "3x2 Array{Bool,2}:\n",
       " false  false\n",
       " false  false\n",
       " false  false"
      ]
     },
     "execution_count": 15,
     "metadata": {},
     "output_type": "execute_result"
    }
   ],
   "source": [
    "map(x->x == [3 4],[3 4; 3 6; 5 34])"
   ]
  },
  {
   "cell_type": "code",
   "execution_count": 5,
   "metadata": {
    "collapsed": false
   },
   "outputs": [
    {
     "data": {
      "text/plain": [
       "3x2 Array{Int64,2}:\n",
       " 3   4\n",
       " 5   6\n",
       " 5  34"
      ]
     },
     "execution_count": 5,
     "metadata": {},
     "output_type": "execute_result"
    }
   ],
   "source": [
    "map()"
   ]
  },
  {
   "cell_type": "code",
   "execution_count": 13,
   "metadata": {
    "collapsed": false
   },
   "outputs": [
    {
     "name": "stdout",
     "output_type": "stream",
     "text": [
      "search: map map! mapfoldr mapfoldl mapslices mapreduce mapreducedim pmap Mmap\n",
      "\n"
     ]
    },
    {
     "data": {
      "text/latex": [
       "\\begin{verbatim}\n",
       "map(f, c...) -> collection\n",
       "\\end{verbatim}\n",
       "Transform collection \\texttt{c} by applying \\texttt{f} to each element. For multiple collection arguments, apply \\texttt{f} elementwise.\n",
       "\\begin{verbatim}\n",
       "julia> map((x) -> x * 2, [1, 2, 3])\n",
       "3-element Array{Int64,1}:\n",
       " 2\n",
       " 4\n",
       " 6\n",
       "\n",
       "julia> map(+, [1, 2, 3], [10, 20, 30])\n",
       "3-element Array{Int64,1}:\n",
       " 11\n",
       " 22\n",
       " 33\n",
       "\\end{verbatim}\n"
      ],
      "text/markdown": [
       "```\n",
       "map(f, c...) -> collection\n",
       "```\n",
       "\n",
       "Transform collection `c` by applying `f` to each element. For multiple collection arguments, apply `f` elementwise.\n",
       "\n",
       "```jldoctest\n",
       "julia> map((x) -> x * 2, [1, 2, 3])\n",
       "3-element Array{Int64,1}:\n",
       " 2\n",
       " 4\n",
       " 6\n",
       "\n",
       "julia> map(+, [1, 2, 3], [10, 20, 30])\n",
       "3-element Array{Int64,1}:\n",
       " 11\n",
       " 22\n",
       " 33\n",
       "```\n"
      ],
      "text/plain": [
       "```\n",
       "map(f, c...) -> collection\n",
       "```\n",
       "\n",
       "Transform collection `c` by applying `f` to each element. For multiple collection arguments, apply `f` elementwise.\n",
       "\n",
       "```jldoctest\n",
       "julia> map((x) -> x * 2, [1, 2, 3])\n",
       "3-element Array{Int64,1}:\n",
       " 2\n",
       " 4\n",
       " 6\n",
       "\n",
       "julia> map(+, [1, 2, 3], [10, 20, 30])\n",
       "3-element Array{Int64,1}:\n",
       " 11\n",
       " 22\n",
       " 33\n",
       "```\n"
      ]
     },
     "execution_count": 13,
     "metadata": {},
     "output_type": "execute_result"
    }
   ],
   "source": [
    "?map"
   ]
  },
  {
   "cell_type": "code",
   "execution_count": 105,
   "metadata": {
    "collapsed": false
   },
   "outputs": [
    {
     "data": {
      "text/plain": [
       "4x2x4 Array{Float64,3}:\n",
       "[:, :, 1] =\n",
       " 1.22465e-16  0.0\n",
       " 0.0          1.0\n",
       " 0.5          1.0\n",
       " 0.5          0.5\n",
       "\n",
       "[:, :, 2] =\n",
       " 0.0  6.12323e-17\n",
       " 0.5  0.5        \n",
       " 1.0  0.5        \n",
       " 1.0  0.0        \n",
       "\n",
       "[:, :, 3] =\n",
       " 0.0  1.0\n",
       " 0.0  2.0\n",
       " 0.5  1.5\n",
       " 0.5  1.0\n",
       "\n",
       "[:, :, 4] =\n",
       " 0.5  0.5\n",
       " 0.5  1.5\n",
       " 1.0  1.0\n",
       " 1.0  0.5"
      ]
     },
     "execution_count": 105,
     "metadata": {},
     "output_type": "execute_result"
    }
   ],
   "source": [
    "testrep = getrep(reptiles, (4,4,1))[1,:tiles]"
   ]
  },
  {
   "cell_type": "code",
   "execution_count": 110,
   "metadata": {
    "collapsed": false
   },
   "outputs": [
    {
     "data": {
      "text/plain": [
       "5x2 Array{Float64,2}:\n",
       " 0.0  1.0        \n",
       " 1.0  0.5        \n",
       " 1.0  0.0        \n",
       " 0.0  6.12323e-17\n",
       " 1.0  1.0        "
      ]
     },
     "execution_count": 110,
     "metadata": {},
     "output_type": "execute_result"
    }
   ],
   "source": [
    "reflecttile(testrep[:,:,2],2)"
   ]
  },
  {
   "cell_type": "code",
   "execution_count": null,
   "metadata": {
    "collapsed": true
   },
   "outputs": [],
   "source": []
  }
 ],
 "metadata": {
  "kernelspec": {
   "display_name": "Julia 0.4.5",
   "language": "julia",
   "name": "julia-0.4"
  },
  "language_info": {
   "file_extension": ".jl",
   "mimetype": "application/julia",
   "name": "julia",
   "version": "0.4.5"
  }
 },
 "nbformat": 4,
 "nbformat_minor": 0
}
