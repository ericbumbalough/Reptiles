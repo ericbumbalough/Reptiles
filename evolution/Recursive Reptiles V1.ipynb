{
 "cells": [
  {
   "cell_type": "markdown",
   "metadata": {},
   "source": [
    "#Recursive Reptiles V0\n",
    "##Version History\n",
    "###V0\n",
    "* Initial release.\n",
    "\n",
    "###V1\n",
    "* `recurrreptile` now adds the original reptile in a recursion family tree to the current reptile instead of adding the current reptile to itself.\n",
    "* Added `find_recur_parent` to locate the first parent in a recursive tree."
   ]
  },
  {
   "cell_type": "code",
   "execution_count": 239,
   "metadata": {
    "collapsed": false
   },
   "outputs": [
    {
     "data": {
      "text/plain": [
       "find_recur_parent (generic function with 1 method)"
      ]
     },
     "execution_count": 239,
     "metadata": {},
     "output_type": "execute_result"
    }
   ],
   "source": [
    "function find_recur_parent(db, reptile)\n",
    "    #returns the ID of the first reptile in a recursive family tree\n",
    "\n",
    "    #initialize\n",
    "    ID = reptile[1,:ID]\n",
    "    recurparents = reptile[reptile[:classfromparents][1] .== \"Recursive\", :parents] #IDs of recusive parents\n",
    "\n",
    "    while length(recurparents) == 1 #not empty tree\n",
    "        \n",
    "        if length(recurparents[1]) > 1 #check for multiple parents\n",
    "            error(\"Multiple recursive parents.\")\n",
    "        end\n",
    "\n",
    "        ID = recurparents[1][1] #store parent ID\n",
    "        reptile = getrep(db, recurparents[1][1]) #update reptile to parent\n",
    "        recurparents = reptile[reptile[:classfromparents][1] .== \"Recursive\", :parents]\n",
    "    end\n",
    "    \n",
    "    return ID #length == 0  means no parents, first in tree\n",
    "end"
   ]
  },
  {
   "cell_type": "code",
   "execution_count": 10,
   "metadata": {
    "collapsed": false
   },
   "outputs": [
    {
     "data": {
      "text/plain": [
       "recurcheck (generic function with 1 method)"
      ]
     },
     "execution_count": 10,
     "metadata": {},
     "output_type": "execute_result"
    }
   ],
   "source": [
    "function recurcheck(db, reptile)\n",
    "    #creates a recursive child of `reptile` and saves it in `db`\n",
    "\n",
    "    #get new reptile\n",
    "    newrotate, newreflect, newtranslate = recurreptile(db, reptile) \n",
    "    reptile[1,:childcheck][1] = true\n",
    "\n",
    "    #save new reptile\n",
    "    newID = savereptile(db, reptile[:n][1], length(newreflect), reptile[:ID][1], reptile[:sides][1],\n",
    "        reptile[:angles][1], reptile[:points][1], newrotate, newreflect, newtranslate,\n",
    "    [\"Recursive\"], reptile[:ID], fill(false, 6), NA, NA, \"\", \"\", false)\n",
    "\n",
    "    #update original reptile\n",
    "    push!(db[db[:ID] .== reptile[:ID],:][:childrensclass][1], \"Recursive\")\n",
    "    push!(db[db[:ID] .== reptile[:ID],:][:children][1], newID)\n",
    "    \n",
    "    return newID\n",
    "end     "
   ]
  },
  {
   "cell_type": "code",
   "execution_count": 241,
   "metadata": {
    "collapsed": false,
    "scrolled": true
   },
   "outputs": [
    {
     "data": {
      "text/plain": [
       "recurreptile (generic function with 1 method)"
      ]
     },
     "execution_count": 241,
     "metadata": {},
     "output_type": "execute_result"
    }
   ],
   "source": [
    "function recurreptile(db, reptile)\n",
    "    #replaces every tile with a smaller copy of the parent recursive reptile\n",
    "\n",
    "    #init\n",
    "    parent = getrep(db, find_recur_parent(db, reptile))\n",
    "    mparent = parent[1,:m] #parent m\n",
    "    mreptile = reptile[1,:m] #tile m\n",
    "    mchild = mparent * mreptile\n",
    "    newrotate = zeros(mchild)\n",
    "    newreflect = fill(false, mchild)\n",
    "    newtranslate = zeros(mchild,2)\n",
    "\n",
    "    for i = 1:mreptile\n",
    "        #new reptile values      \n",
    "        s = (parent[1,:reflect] .- 0.5) / -0.5 #sign of rotation\n",
    "\n",
    "        newrotate[(i-1)*mparent+1:i*mparent] = map(mod2pi, parent[1,:rotate] .+ s .* reptile[1,:rotate][i]) #sum of rotations\n",
    "        newreflect[(i-1)*mparent+1:i*mparent] = map(x -> x $ reptile[1,:reflect][i], parent[1,:reflect]) #xor of reflections\n",
    "        \n",
    "        rot = [cos(reptile[1,:rotate][i]) sin(reptile[1,:rotate][i]);\n",
    "            -sin(reptile[1,:rotate][i]) cos(reptile[1,:rotate][i])] #rotation matrix (transposed)  \n",
    "        newtranslate[(i-1)*mparent+1:i*mparent,:] = parent[1,:translate] / sqrt(mreptile) * rot #rotate and scale to tile size\n",
    "\n",
    "        if reptile[1,:reflect][i] == true\n",
    "            newtranslate[(i-1)*mparent+1:i*mparent,1] *= -1 #reflect\n",
    "        end\n",
    "\n",
    "        newtranslate[(i-1)*mparent+1:i*mparent,:] .+= reptile[1,:translate][i,:] #translate\n",
    "\n",
    "    end\n",
    "\n",
    "    return newrotate, newreflect, newtranslate\n",
    "end"
   ]
  },
  {
   "cell_type": "code",
   "execution_count": 11,
   "metadata": {
    "collapsed": false
   },
   "outputs": [
    {
     "data": {
      "text/plain": [
       "recurloop (generic function with 1 method)"
      ]
     },
     "execution_count": 11,
     "metadata": {},
     "output_type": "execute_result"
    }
   ],
   "source": [
    "function recurloop(db, reptile, mmax)\n",
    "    #generates recursive reptiles until m > mmax\n",
    "    \n",
    "    for i = 1:floor(Int, log(reptile[1,:m], mmax)) - 1\n",
    "        newID = recurcheck(db, reptile)\n",
    "        reptile = getrep(db, newID)\n",
    "    end\n",
    "end"
   ]
  }
 ],
 "metadata": {
  "kernelspec": {
   "display_name": "Julia 0.4.1",
   "language": "julia",
   "name": "julia-0.4"
  },
  "language_info": {
   "file_extension": ".jl",
   "mimetype": "application/julia",
   "name": "julia",
   "version": "0.4.1"
  }
 },
 "nbformat": 4,
 "nbformat_minor": 0
}
