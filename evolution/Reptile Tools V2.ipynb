{
 "cells": [
  {
   "cell_type": "markdown",
   "metadata": {},
   "source": [
    "#Reptile Tools\n",
    "##Conventions\n",
    "* `rotate`, `reflect`, and `translate` occur in that order.\n",
    "* `reflect` is about the y-axis.\n",
    "* `childcheck = [recursive, symmetric, expansion, replacement, transformation, grid]`\n",
    "* `|s1| = 1` and `|s2|` is the next smallest side, `|s3|` is next smallest...\n",
    "* First tile coordinate is minimum x, then minimum y. Direction of listing is towards point with minimum x, then minimum y.\n",
    "* Order amongst tile is minimum x1, then minimum y1, then minimum x2...\n",
    "\n",
    "##Notes\n",
    "* Tile starting point may fail if vertex is duplicated (i.e. not simple).\n",
    "\n",
    "##Version History\n",
    "###V0\n",
    "* Initial release.\n",
    "\n",
    "###V1\n",
    "* Replaced `tiles` with `points`, `rotate`, `reflect`, and `translate`.\n",
    "* Added `findtiles` to calculate the points on the tiles.\n",
    "* Added `childcheck` boolean array to record which child possibilities have been explored. `[recursive, symmetric, expansion, replacement, transformation, grid]`\n",
    "* Added `getrep` to assist in passing reptile data.\n",
    "\n",
    "###V2\n",
    "* Added tile vertex data under `tiles` with ordering convention.\n",
    "* Removed duplicate end point from `findtiles`. `plotreptile` now handles the duplication.\n",
    "* Added `pianglecheck` to check for angles of pi radians (which are invalid).\n",
    "* Added duplicate checking and parent/child updates to `savereptile`. (incomplete)\n",
    "\n",
    "##To Do List\n",
    "* Create dupicate checking in `savereptile`."
   ]
  },
  {
   "cell_type": "code",
   "execution_count": 2,
   "metadata": {
    "collapsed": false
   },
   "outputs": [],
   "source": [
    "using DataFrames, JLD, Winston"
   ]
  },
  {
   "cell_type": "code",
   "execution_count": 8,
   "metadata": {
    "collapsed": false
   },
   "outputs": [],
   "source": [
    "reptiles = load(\"reptileDB.jld\", \"reptiles\");"
   ]
  },
  {
   "cell_type": "code",
   "execution_count": 120,
   "metadata": {
    "collapsed": false
   },
   "outputs": [
    {
     "data": {
      "text/plain": [
       "mypush! (generic function with 1 method)"
      ]
     },
     "execution_count": 120,
     "metadata": {},
     "output_type": "execute_result"
    }
   ],
   "source": [
    "function mypush!(db, n, m, ID, sides, angles, points, rotate, reflect, translate, tiles,\n",
    "    classfromparents, parents, childcheck, childrensclass, children, source, notes, obsolete)\n",
    "    #workaround for getting arrays into dataframes.\n",
    "    \n",
    "    #pushes new entry onto end of db\n",
    "    push!(db, @data([n; m; ID; NA; NA; NA; NA; NA; NA; NA; NA; NA; NA; NA; NA; source;\n",
    "        notes; obsolete])) #NAs are just place holders\n",
    "    \n",
    "    db[:sides][end] = vec(sides)\n",
    "    db[:angles][end] = vec(angles)\n",
    "    db[:points][end] = points\n",
    "    db[:rotate][end] = vec(rotate)\n",
    "    db[:reflect][end] = vec(reflect)\n",
    "    db[:translate][end] = translate\n",
    "    db[:tiles][end] = tiles\n",
    "    db[:classfromparents][end] = classfromparents\n",
    "    db[:parents][end] = parents\n",
    "    db[:childcheck][end] = childcheck\n",
    "    db[:childrensclass][end] = childrensclass\n",
    "    db[:children][end] = children\n",
    "end"
   ]
  },
  {
   "cell_type": "code",
   "execution_count": 388,
   "metadata": {
    "collapsed": false
   },
   "outputs": [
    {
     "data": {
      "text/plain": [
       "findtiles (generic function with 1 method)"
      ]
     },
     "execution_count": 388,
     "metadata": {},
     "output_type": "execute_result"
    }
   ],
   "source": [
    "function findtiles(points, rotate, reflect, translate)\n",
    "    #returns the tile points based on inputs.\n",
    "    #no longer includes extra copy of first point at the final point for plotting.\n",
    "    \n",
    "    n = size(points)[1]\n",
    "    m = length(reflect)\n",
    "    output = zeros(n, 2, m)\n",
    "    \n",
    "    scaled = points / sqrt(m) #scaled points\n",
    "    #scaled = vcat(scaled, scaled[1,:]) #duplicate first row at end for plotting\n",
    "    \n",
    "    for i = 1:m\n",
    "        rot = [cos(rotate[i]) sin(rotate[i]); -sin(rotate[i]) cos(rotate[i])] #rotation matrix\n",
    "        output[:,:,i] = scaled * rot #rotate tile\n",
    "        if reflect[i] == true #reflect tile\n",
    "            output[:,1,i] *= -1\n",
    "        end\n",
    "        output[:,:,i] .+= translate[i,:] #translate tile\n",
    "    end\n",
    "    \n",
    "    return output\n",
    "    \n",
    "end"
   ]
  },
  {
   "cell_type": "code",
   "execution_count": 384,
   "metadata": {
    "collapsed": false
   },
   "outputs": [
    {
     "data": {
      "text/plain": [
       "plotreptile (generic function with 1 method)"
      ]
     },
     "execution_count": 384,
     "metadata": {},
     "output_type": "execute_result"
    }
   ],
   "source": [
    "function plotreptile(ID, tiles)\n",
    "    #save a plot of the reptile given by `tiles` at the right spot\n",
    "\n",
    "    n, m, temp = ID\n",
    "    dir = pwd()*\"\\\\images\\\\n=\"*string(n)*\"\\\\m=\"*string(m)\n",
    "    \n",
    "    if !isdir(dir) #check for folder\n",
    "        if !isdir(pwd()*\"\\\\images\\\\n=\"*string(n))\n",
    "            mkdir(pwd()*\"\\\\images\\\\n=\"*string(n))\n",
    "        end\n",
    "        mkdir(dir)\n",
    "    end\n",
    "    \n",
    "    p = plot(vcat(tiles[:,1,1], tiles[1,1,1]), vcat(tiles[:,2,1], tiles[1,2,1])) #plot first tile\n",
    "    \n",
    "    for i = 2:m #plot other tiles\n",
    "        oplot(vcat(tiles[:,1,i], tiles[1,1,i]), vcat(tiles[:,2,i], tiles[1,2,i]))\n",
    "    end\n",
    "    \n",
    "    setattr(p.frame, draw_nothing = true) #hide axes\n",
    "      \n",
    "    #force square plot\n",
    "    xmin = minimum(tiles[:,1,:])\n",
    "    xmax = maximum(tiles[:,1,:])\n",
    "    ymin = minimum(tiles[:,2,:])\n",
    "    ymax = maximum(tiles[:,2,:])\n",
    "    xrange = xmax - xmin\n",
    "    yrange = ymax - ymin\n",
    "\n",
    "    if xrange >= yrange\n",
    "        wid = 4096\n",
    "        hgt = round(Int, 4096 * yrange / xrange)\n",
    "    else\n",
    "        hgt = 4096\n",
    "        wid = round(Int, 4096 * xrange / yrange)\n",
    "    end\n",
    "    \n",
    "    savefig(p, dir*\"\\\\\"*string(ID)*\".pdf\", \n",
    "    width = wid, height = hgt)\n",
    "    savefig(p, dir*\"\\\\\"*string(ID)*\".png\", \n",
    "    width = wid, height = hgt)\n",
    "    \n",
    "end"
   ]
  },
  {
   "cell_type": "code",
   "execution_count": 385,
   "metadata": {
    "collapsed": false
   },
   "outputs": [
    {
     "data": {
      "text/plain": [
       "savereptile (generic function with 1 method)"
      ]
     },
     "execution_count": 385,
     "metadata": {},
     "output_type": "execute_result"
    }
   ],
   "source": [
    "function savereptile(db, n, m, ID, sides, angles, points, rotate, reflect, translate,\n",
    "    classfromparents, parents, childcheck, childrensclass, children, source, notes, obsolete)\n",
    "    #plots, adds to DB, and saves DB with new reptile\n",
    "    \n",
    "    #find ID. +1 to current number of reptiles\n",
    "    num = length(db[(db[:n] .== n) & (db[:m] .== m),:ID]) + 1 #find ID. +1 to current number of reptiles\n",
    "    ID = (n, m, num)\n",
    "    childcheck = fill(false, 6)\n",
    "    childrensclass = Array{AbstractString,1}[]\n",
    "    children = Array{Tuple{Int64,Int64,Int64},1}[]\n",
    "    \n",
    "    tiles = ordertiles(findtiles(points, rotate, reflect, translate))\n",
    "    \n",
    "    mypush!(db, n, m, ID, sides, angles, points, rotate, reflect, translate, tiles,\n",
    "    classfromparents, parents, childcheck, childrensclass, children, source, notes, obsolete) #update db\n",
    "    \n",
    "    plotreptile(ID, tiles)\n",
    "    \n",
    "    save(\"reptileDB.jld\", \"reptiles\", db)\n",
    "    \n",
    "    return ID\n",
    "    \n",
    "end "
   ]
  },
  {
   "cell_type": "code",
   "execution_count": 386,
   "metadata": {
    "collapsed": false
   },
   "outputs": [
    {
     "data": {
      "text/plain": [
       "getrep (generic function with 1 method)"
      ]
     },
     "execution_count": 386,
     "metadata": {},
     "output_type": "execute_result"
    }
   ],
   "source": [
    "function getrep(db, ID)\n",
    "    #returns the row in the database with the corresponding `ID`.\n",
    "    \n",
    "    rep = db[db[:ID] .== ID,:]\n",
    "    if size(rep)[1] != 1\n",
    "        error(\"ID does not exist or is not unique.\")\n",
    "    end\n",
    "    return rep\n",
    "end"
   ]
  },
  {
   "cell_type": "code",
   "execution_count": 4,
   "metadata": {
    "collapsed": false
   },
   "outputs": [
    {
     "data": {
      "text/plain": [
       "initreptiles (generic function with 1 method)"
      ]
     },
     "execution_count": 4,
     "metadata": {},
     "output_type": "execute_result"
    }
   ],
   "source": [
    "function initreptiles()\n",
    "    #reinitialized DB\n",
    "    reptiles = DataFrame()\n",
    "    reptiles[:n] = Int64[] #number of sides\n",
    "    reptiles[:m] = Int64[] #number of tiles\n",
    "    reptiles[:ID] = Tuple{Int64,Int64,Int64}[] #n,m,x where x is such that ID is unique\n",
    "    reptiles[:sides] = Array{Float64,1}[] #side lengths\n",
    "    reptiles[:angles] = Array{Float64,1}[] #angles\n",
    "    reptiles[:points] = Array{Float64,2}[] #verticies of original\n",
    "    reptiles[:rotate] = Array{Float64,1}[] #rotation of each tile (radians)\n",
    "    reptiles[:reflect] = Array{Bool,1}[] #is each tile a reflection?\n",
    "    reptiles[:translate] = Array{Float64,2}[] #the translation of each tile\n",
    "    reptiles[:tiles] = Array{Float64,3}[] #tile verticies\n",
    "    reptiles[:classfromparents] = Array{AbstractString,1}[] #class of this reptile (how it was derived from parent).\n",
    "    reptiles[:parents] = Array{Tuple{Int64,Int64,Int64},1}[]\n",
    "    reptiles[:childcheck] = Array{Bool,1}[] #which possibilties for children have been explored.\n",
    "                                            #[recursive, symmetric, expansion, replacement, transformation, grid]\n",
    "    reptiles[:childrensclass] = Array{AbstractString,1}[] #class of children\n",
    "    reptiles[:children] = Array{Tuple{Int64,Int64,Int64},1}[]\n",
    "    reptiles[:source] = AbstractString[] #citation\n",
    "    reptiles[:notes] = AbstractString[]\n",
    "    reptiles[:obsolete] = Bool[]\n",
    "    \n",
    "    return reptiles\n",
    "end"
   ]
  },
  {
   "cell_type": "code",
   "execution_count": 90,
   "metadata": {
    "collapsed": false
   },
   "outputs": [
    {
     "data": {
      "text/plain": [
       "ordertiles (generic function with 2 methods)"
      ]
     },
     "execution_count": 90,
     "metadata": {},
     "output_type": "execute_result"
    }
   ],
   "source": [
    "function ordertiles(tiles, digits = 9)\n",
    "    #orders each tile starting with min x, then min y. Heads towards min x, then min y.\n",
    "    #orders amongst tiles by min x, then min y. proceeds to next point in case of a tie.\n",
    "    #sorts within and among tiles\n",
    "    \n",
    "    roundedtiles = round(tiles, digits)\n",
    "    \n",
    "    #order each tile\n",
    "    for i = 1:size(tiles)[3] #for each tile\n",
    "        \n",
    "        #find starting point (duplicate points impossible since tile is simple)\n",
    "        xmins = roundedtiles[:,1,i] .== minimum(roundedtiles[:,1,i]) #is each x value the minimum?\n",
    "        if sum(xmins) > 1 #minimum is not unique\n",
    "            yorder = sortperm(roundedtiles[:,2,i], rev=true) #reverse order of y values\n",
    "            startind = indmax(xmins .* yorder) #starting index. xmin falses will become zero.\n",
    "        else #minimum is unique\n",
    "            startind = indmin(roundedtiles[:,1,i])\n",
    "        end\n",
    "\n",
    "        #reorder to begin at starting point\n",
    "        tiles[:,:,i] = circshift(tiles[:,:,i], [-startind + 1,0 ,0])\n",
    "        roundedtiles[:,:,i] = round(tiles[:,:,i], digits) #update new tile location\n",
    "        \n",
    "        #flip order if necessary\n",
    "        if roundedtiles[2,1,i] > roundedtiles[end,1,i] #headed wrong direction\n",
    "            tiles[:,:,i] = circshift(flipdim(tiles[:,:,i], 1), [1,0,0]) #flip order then shift to fix starting point\n",
    "        elseif roundedtiles[2,1,i] == roundedtiles[end,1,i] #tie\n",
    "            if roundedtiles[2,2,i] > roundedtiles[end,2,i] #y-component is tiebreak\n",
    "                tiles[:,:,i] = circshift(flipdim(tiles[:,:,i], 1), [1,0,0]) #flip order then shift to fix starting point\n",
    "            end\n",
    "        end #else order was already correct\n",
    "            \n",
    "    end\n",
    "    \n",
    "    #order amongst tiles\n",
    "    tile = sorttiles(tiles, 1, digits)\n",
    "    \n",
    "    return tiles\n",
    "    \n",
    "end\n",
    "        "
   ]
  },
  {
   "cell_type": "code",
   "execution_count": 91,
   "metadata": {
    "collapsed": false
   },
   "outputs": [
    {
     "data": {
      "text/plain": [
       "sorttiles (generic function with 2 methods)"
      ]
     },
     "execution_count": 91,
     "metadata": {},
     "output_type": "execute_result"
    }
   ],
   "source": [
    "function sorttiles(tiles, depth, digits = 9)\n",
    "    #recursively sorts a tile until it is ordered by x1, then y1, then x2, then y2...\n",
    "    #sorts amongst tiles\n",
    "    \n",
    "    #init\n",
    "    row = ceil(Int, depth/2)\n",
    "    col = mod1(depth,2)\n",
    "    roundtiles = round(tiles, digits)\n",
    "    \n",
    "    #sort\n",
    "    tileorder = sortperm(vec(roundtiles[row, col,:]))\n",
    "    tiles[:, :, :] = tiles[:, :, tileorder]\n",
    "    roundtiles = round(tiles, digits) #reround for new order\n",
    "    \n",
    "    #check if next level needs to be sorted\n",
    "    for i = 1:size(tiles)[3] - 1 #each tile\n",
    "        \n",
    "        #count number of identical values in a row\n",
    "        j = 0 #number of identical values in a row\n",
    "        while roundtiles[row, col, i] == roundtiles[row, col, i + j + 1] #compare to next number\n",
    "            j += 1 #increment\n",
    "            if i + j + 1 > size(tiles)[3] #end of array\n",
    "                break\n",
    "            end\n",
    "        end\n",
    "\n",
    "        #sort next level if necessary\n",
    "        if j > 0 #duplicates found\n",
    "            tiles[:,:,i:i+j] = sorttiles(tiles[:,:,i:i+j], depth + 1, digits)\n",
    "        end\n",
    "        \n",
    "        #move to next\n",
    "        i += j       \n",
    "    end\n",
    "    \n",
    "    return tiles\n",
    "end"
   ]
  },
  {
   "cell_type": "code",
   "execution_count": 11,
   "metadata": {
    "collapsed": false
   },
   "outputs": [
    {
     "data": {
      "text/plain": [
       "pianglecheck (generic function with 2 methods)"
      ]
     },
     "execution_count": 11,
     "metadata": {},
     "output_type": "execute_result"
    }
   ],
   "source": [
    "function pianglecheck(tile, digits = 9)\n",
    "    #delete any verticies that fall on a straight line (pi radians)\n",
    "    \n",
    "    difftile = round(diff([tile; tile[1,:]]), digits) #change in x and y. duplicated points should be impossible.\n",
    "    slopes = difftile[:,2] ./ difftile[:,1] #slopes\n",
    "    \n",
    "    equalslopes = slopes .== circshift(slopes, 1) #compare each side with slope of next\n",
    "    tile = tile[!equalslopes,:] #remove invalid points\n",
    "    \n",
    "    return tile\n",
    "    \n",
    "end"
   ]
  }
 ],
 "metadata": {
  "kernelspec": {
   "display_name": "Julia 0.4.6",
   "language": "julia",
   "name": "julia-0.4"
  },
  "language_info": {
   "file_extension": ".jl",
   "mimetype": "application/julia",
   "name": "julia",
   "version": "0.4.6"
  }
 },
 "nbformat": 4,
 "nbformat_minor": 0
}
