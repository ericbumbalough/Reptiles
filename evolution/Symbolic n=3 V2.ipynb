{
 "cells": [
  {
   "cell_type": "code",
   "execution_count": 1,
   "metadata": {
    "collapsed": false
   },
   "outputs": [],
   "source": [
    "using SymPy"
   ]
  },
  {
   "cell_type": "code",
   "execution_count": 2,
   "metadata": {
    "collapsed": false
   },
   "outputs": [],
   "source": [
    "t1, t2, t3 = symbols(\"t1, t2, t3\", real = true, positive = true) #angles\n",
    "s2, s3 = symbols(\"s2, s3\", real = true, positive = true) #sides\n",
    "m = symbols(\"m\", integer=true, positive=true) #number of tiles\n",
    "a11, a12, a13, a21, a22, a23, a31, a32, a33 = symbols(\"a11, a12, a13, a21, a22, a23, a31, a32, a33\", integer=true, negative=false)\n",
    "eq6 = t1 + t2 + t3 - pi\n",
    "eq7 = a11 + a12*s2 + a13*s3 - sqrt(m)\n",
    "eq8 = a21 + a22*s2 + a23*s3 - sqrt(m)*s2\n",
    "eq9 = a31 + a32*s2 + a33*s3 - sqrt(m)*s3;"
   ]
  },
  {
   "cell_type": "code",
   "execution_count": null,
   "metadata": {
    "collapsed": true
   },
   "outputs": [],
   "source": [
    "############################################3\n",
    "#if m is not square"
   ]
  }
 ],
 "metadata": {
  "kernelspec": {
   "display_name": "Julia 0.4.0",
   "language": "julia",
   "name": "julia-0.4"
  },
  "language_info": {
   "file_extension": ".jl",
   "mimetype": "application/julia",
   "name": "julia",
   "version": "0.4.0"
  }
 },
 "nbformat": 4,
 "nbformat_minor": 0
}
